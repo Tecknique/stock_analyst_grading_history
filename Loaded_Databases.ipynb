{
 "cells": [
  {
   "cell_type": "code",
   "execution_count": 94,
   "metadata": {},
   "outputs": [
    {
     "name": "stdout",
     "output_type": "stream",
     "text": [
      "Populating the interactive namespace from numpy and matplotlib\n"
     ]
    }
   ],
   "source": [
    "from datetime import timedelta\n",
    "import datetime as dt\n",
    "from pandas.tseries.offsets import BDay\n",
    "import os\n",
    "import pandas as pd\n",
    "import csv\n",
    "import matplotlib.pyplot as plt\n",
    "from ipywidgets import widgets as wg\n",
    "from ipywidgets import interactive\n",
    "from IPython.display import display\n",
    "from itertools import izip\n",
    "from pandas import *\n",
    "cmap = plt.get_cmap('viridis')\n",
    "%pylab inline\n",
    "pylab.rcParams['figure.figsize'] = (10, 6)\n",
    "\n",
    "# entire_stock_analyst_hist_df = pd.read_csv('entire_ticker_analyst_history')\n",
    "# snp_500_analyst_history_df = pd.read_csv('snp500analyst_history')\n",
    "# snp_500_stock_history_df = pd.read_csv('snp500stockHistories')\n",
    "snp_500_merged_data = pd.read_csv('snp500merged',index_col=0)\n",
    "\n",
    "#uppercase the firms to fix uniformity mistakes\n",
    "snp_500_merged_data['firm'] = snp_500_merged_data['firm'].str.upper()"
   ]
  },
  {
   "cell_type": "code",
   "execution_count": 97,
   "metadata": {},
   "outputs": [],
   "source": [
    "df = snp_500_merged_data.copy()"
   ]
  },
  {
   "cell_type": "markdown",
   "metadata": {},
   "source": [
    "### Chart Each Ticker"
   ]
  },
  {
   "cell_type": "markdown",
   "metadata": {},
   "source": [
    "#### Instructions\n",
    "\n",
    "* 1)Load the imports and databases\n",
    "* 2)Run the code under this cell\n",
    "* 3)Type in the symbol into the box and press enter\n",
    "* 4)Run next cell and select the Institution that you would like to perform analysis (no need to press enter)\n",
    "* 5)Run the following Cell\n"
   ]
  },
  {
   "cell_type": "code",
   "execution_count": 175,
   "metadata": {},
   "outputs": [
    {
     "name": "stdout",
     "output_type": "stream",
     "text": [
      "Please enter a stock tickerMMM\n"
     ]
    }
   ],
   "source": [
    "def enter_ticker(df):\n",
    "    ticker = raw_input('Please enter a stock ticker').upper()\n",
    "    ticker_df = df.loc[df['stockTicker'] == ticker]\n",
    "    return ticker_df\n",
    "\n",
    "\n",
    "ticker_data = enter_ticker(snp_500_merged_data)\n",
    "\n",
    "to_analyst_value_count = ticker_data.firm.value_counts().to_frame().index.values.tolist()\n",
    "\n",
    "analyst_data = wg.Dropdown(\n",
    "        options = ['All'] + to_analyst_value_count,\n",
    "        value = 'All',\n",
    "        description = 'Analyst Firm:'  \n",
    "    )\n",
    "\n",
    "def plot_ticker(df,analyst_data):\n",
    "    analyst_data_for_ticker_df = df.loc[df['firm'] == analyst_data.value]\n",
    "    pylab.rcParams['figure.figsize'] = (10,6)\n",
    "    plt.plot_date(df['Date'],df['Open'],linestyle='solid',marker='None')\n",
    "    for xc in analyst_data_for_ticker_df.Date:\n",
    "        plt.axvline(x=xc)"
   ]
  },
  {
   "cell_type": "code",
   "execution_count": 177,
   "metadata": {},
   "outputs": [
    {
     "data": {
      "text/plain": [
       "['CITIGROUP',\n",
       " 'JEFFERIES',\n",
       " 'MORGAN STANLEY',\n",
       " 'DEUTSCHE BANK',\n",
       " 'BARCLAYS',\n",
       " 'CREDIT SUISSE',\n",
       " 'JP MORGAN',\n",
       " 'UBS',\n",
       " 'NOMURA',\n",
       " 'GOLDMAN SACHS',\n",
       " 'BANK OF AMERICA',\n",
       " 'RBC CAPITAL',\n",
       " 'HILLIARD LYONS',\n",
       " 'BERNSTEIN',\n",
       " 'FBR CAPITAL',\n",
       " 'LADENBURG THALMANN',\n",
       " 'TIGRESS FINANCIAL',\n",
       " 'STIFEL',\n",
       " 'WILLIAM BLAIR',\n",
       " 'ARGUS CAPITAL',\n",
       " 'STIFEL NICOLAUS',\n",
       " 'ARGUS']"
      ]
     },
     "execution_count": 177,
     "metadata": {},
     "output_type": "execute_result"
    }
   ],
   "source": [
    "to_analyst_value_count"
   ]
  },
  {
   "cell_type": "code",
   "execution_count": 180,
   "metadata": {},
   "outputs": [
    {
     "data": {
      "application/vnd.jupyter.widget-view+json": {
       "model_id": "f93d21b4e3554c779f883fff4dbe017f"
      }
     },
     "metadata": {},
     "output_type": "display_data"
    }
   ],
   "source": [
    "analyst_data"
   ]
  },
  {
   "cell_type": "code",
   "execution_count": null,
   "metadata": {
    "collapsed": true
   },
   "outputs": [],
   "source": [
    "plot_ticker(ticker_data,analyst_data)\n"
   ]
  },
  {
   "cell_type": "code",
   "execution_count": 254,
   "metadata": {},
   "outputs": [],
   "source": [
    "to_firm_value_count = df.firm.value_counts().to_frame().index.values.tolist()\n",
    "firm_data = wg.Dropdown(\n",
    "        options = to_firm_value_count,\n",
    "        description = 'Analyst Firm:'  \n",
    "    )\n",
    "\n",
    "\n",
    "\n",
    "def show_analyst_stats(df1,firm_data):\n",
    "    lst1 = []\n",
    "    lst3 = []\n",
    "    lst6 = []\n",
    "    lst9 = []\n",
    "    df2 = df1.loc[df1['firm'] == firm_data.value]\n",
    "    unique_grades = df2['toGrade_combined'].unique().tolist()\n",
    "    cleaned_grades = [x for x in unique_grades if str(x)!= 'nan']\n",
    "    df3 = pd.DataFrame({'toGrade':cleaned_grades})\n",
    "    for grade in df3['toGrade'].values:\n",
    "        dayaftersM = df2.loc[df2['toGrade_combined'] == grade]['percent1After'].mean()\n",
    "        days30M = df2.loc[df2['toGrade_combined'] == grade]['percent30'].mean()\n",
    "        days60M = df2.loc[df2['toGrade_combined'] == grade]['percent60'].mean()\n",
    "        days90M = df2.loc[df2['toGrade_combined'] == grade]['percent90'].mean()\n",
    "        lst1.append(dayaftersM)\n",
    "        lst3.append(days30M)\n",
    "        lst6.append(days60M)\n",
    "        lst9.append(days90M)\n",
    "    df3['dayAfterM'] = pd.Series(lst1)\n",
    "    df3['days30M'] = pd.Series(lst3)\n",
    "    df3['days60M'] = pd.Series(lst6)\n",
    "    df3['days90M'] = pd.Series(lst9)\n",
    "\n",
    "    return df3\n",
    "\n"
   ]
  },
  {
   "cell_type": "code",
   "execution_count": 260,
   "metadata": {},
   "outputs": [
    {
     "data": {
      "application/vnd.jupyter.widget-view+json": {
       "model_id": "525e9275265341878816318b4cd947ba"
      }
     },
     "metadata": {},
     "output_type": "display_data"
    }
   ],
   "source": [
    "firm_data"
   ]
  },
  {
   "cell_type": "code",
   "execution_count": 262,
   "metadata": {},
   "outputs": [
    {
     "data": {
      "text/html": [
       "<div>\n",
       "<style>\n",
       "    .dataframe thead tr:only-child th {\n",
       "        text-align: right;\n",
       "    }\n",
       "\n",
       "    .dataframe thead th {\n",
       "        text-align: left;\n",
       "    }\n",
       "\n",
       "    .dataframe tbody tr th {\n",
       "        vertical-align: top;\n",
       "    }\n",
       "</style>\n",
       "<table border=\"1\" class=\"dataframe\">\n",
       "  <thead>\n",
       "    <tr style=\"text-align: right;\">\n",
       "      <th></th>\n",
       "      <th>toGrade</th>\n",
       "      <th>dayAfterM</th>\n",
       "      <th>days30M</th>\n",
       "      <th>days60M</th>\n",
       "      <th>days90M</th>\n",
       "    </tr>\n",
       "  </thead>\n",
       "  <tbody>\n",
       "    <tr>\n",
       "      <th>0</th>\n",
       "      <td>Hold</td>\n",
       "      <td>-0.004153</td>\n",
       "      <td>1.151319</td>\n",
       "      <td>2.136012</td>\n",
       "      <td>2.786734</td>\n",
       "    </tr>\n",
       "    <tr>\n",
       "      <th>1</th>\n",
       "      <td>Buy</td>\n",
       "      <td>0.124139</td>\n",
       "      <td>1.370658</td>\n",
       "      <td>2.656153</td>\n",
       "      <td>3.726897</td>\n",
       "    </tr>\n",
       "    <tr>\n",
       "      <th>2</th>\n",
       "      <td>Sell</td>\n",
       "      <td>-0.056793</td>\n",
       "      <td>0.333578</td>\n",
       "      <td>2.315602</td>\n",
       "      <td>3.873174</td>\n",
       "    </tr>\n",
       "    <tr>\n",
       "      <th>3</th>\n",
       "      <td>Strong_buy</td>\n",
       "      <td>-0.187339</td>\n",
       "      <td>-5.157984</td>\n",
       "      <td>1.998249</td>\n",
       "      <td>2.772574</td>\n",
       "    </tr>\n",
       "  </tbody>\n",
       "</table>\n",
       "</div>"
      ],
      "text/plain": [
       "      toGrade  dayAfterM   days30M   days60M   days90M\n",
       "0        Hold  -0.004153  1.151319  2.136012  2.786734\n",
       "1         Buy   0.124139  1.370658  2.656153  3.726897\n",
       "2        Sell  -0.056793  0.333578  2.315602  3.873174\n",
       "3  Strong_buy  -0.187339 -5.157984  1.998249  2.772574"
      ]
     },
     "execution_count": 262,
     "metadata": {},
     "output_type": "execute_result"
    }
   ],
   "source": [
    "show_analyst_stats(df,firm_data)"
   ]
  }
 ],
 "metadata": {
  "kernelspec": {
   "display_name": "Python 2",
   "language": "python",
   "name": "python2"
  },
  "language_info": {
   "codemirror_mode": {
    "name": "ipython",
    "version": 2
   },
   "file_extension": ".py",
   "mimetype": "text/x-python",
   "name": "python",
   "nbconvert_exporter": "python",
   "pygments_lexer": "ipython2",
   "version": "2.7.13"
  }
 },
 "nbformat": 4,
 "nbformat_minor": 2
}
