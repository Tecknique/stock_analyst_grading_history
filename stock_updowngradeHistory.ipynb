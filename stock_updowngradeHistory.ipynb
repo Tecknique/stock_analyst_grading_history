{
 "cells": [
  {
   "cell_type": "code",
   "execution_count": 1,
   "metadata": {},
   "outputs": [
    {
     "name": "stdout",
     "output_type": "stream",
     "text": [
      "Populating the interactive namespace from numpy and matplotlib\n"
     ]
    },
    {
     "name": "stderr",
     "output_type": "stream",
     "text": [
      "C:\\ProgramData\\Anaconda2\\lib\\site-packages\\IPython\\core\\magics\\pylab.py:161: UserWarning: pylab import has clobbered these variables: ['datetime']\n",
      "`%matplotlib` prevents importing * from pylab and numpy\n",
      "  \"\\n`%matplotlib` prevents importing * from pylab and numpy\"\n"
     ]
    }
   ],
   "source": [
    "import os\n",
    "from datetime import datetime\n",
    "import pandas_datareader as pdr\n",
    "from urllib import urlopen\n",
    "from bs4 import BeautifulSoup\n",
    "import json\n",
    "import pandas as pd\n",
    "import requests\n",
    "import csv\n",
    "from tqdm import tnrange, tqdm_notebook\n",
    "from time import sleep\n",
    "import pickle\n",
    "import matplotlib.pyplot as plt\n",
    "%pylab inline\n",
    "\n",
    "\n",
    "no_hist_symbol = []\n",
    "DIR = 'C:/Users/sarab/Desktop/git_projects/stock_analyst_grade_history/'\n",
    "URL = 'https://finance.yahoo.com/quote/{0}/analysts?p={0}'"
   ]
  },
  {
   "cell_type": "code",
   "execution_count": 2,
   "metadata": {
    "collapsed": true
   },
   "outputs": [],
   "source": [
    "##############################################################################\n",
    "#### Populating Ticker Lists #################################################\n",
    "##############################################################################\n",
    "\n",
    "def locate_all_symbols(suffix,base_filename,dir_name):\n",
    "    script_dir = os.path.join(dir_name,'.'.join((base_filename,suffix))) \n",
    "    all_companies = pd.read_csv(script_dir)\n",
    "    all_ticker_symbols = all_companies['Symbol'].tolist()\n",
    "    return all_ticker_symbols\n",
    "\n",
    "def save_sp500_tickers():\n",
    "    resp = requests.get('http://en.wikipedia.org/wiki/List_of_S%26P_500_companies')\n",
    "    soup = BeautifulSoup(resp.text, 'lxml')\n",
    "    table = soup.find('table', {'class': 'wikitable sortable'})\n",
    "    tickers = []\n",
    "    for row in table.findAll('tr')[1:]:\n",
    "        ticker = row.findAll('td')[0].text\n",
    "        tickers.append(ticker)      \n",
    "    with open(\"sp500tickers.pickle\",\"wb\") as f:\n",
    "        pickle.dump(tickers,f)    \n",
    "    return tickers    \n",
    "\n",
    "\n",
    "entire_ticker_list = locate_all_symbols('csv','company_ticker_symbols', DIR)\n",
    "snp500tickers = save_sp500_tickers()"
   ]
  },
  {
   "cell_type": "code",
   "execution_count": 3,
   "metadata": {
    "collapsed": true
   },
   "outputs": [],
   "source": [
    "def select_ticker(tick):\n",
    "    url = 'https://finance.yahoo.com/quote/{0}/analysts?p={0}'\n",
    "    return url.format(tick)\n",
    "\n",
    "def yahoo_finance_analyst_data(url):\n",
    "    req = urlopen(url)\n",
    "    raw = req.read()\n",
    "    soup = BeautifulSoup(raw,'lxml')\n",
    "    return soup\n",
    "\n",
    "def auto_symbols(ticker):\n",
    "    url = select_ticker(ticker)\n",
    "    return url\n",
    "\n",
    "def grab_dict(soup):\n",
    "    l = [i for i in soup.find_all('script')]\n",
    "    mylist = [str(item) for item in l]\n",
    "    m = max(mylist,key=len)\n",
    "    ind = mylist.index(m)\n",
    "    data = l[mylist.index(m)]\n",
    "    data_dict = data.text[112:-12]\n",
    "    all_tables = json.loads(data_dict)\n",
    "    return all_tables\n",
    "\n",
    "def upgrade_downgrade_pandas(dic,tick):\n",
    "    try:\n",
    "        stock_upgrade_downgrade_history = dic['context']['dispatcher']['stores']['QuoteSummaryStore']['upgradeDowngradeHistory']['history']\n",
    "        pd_stock_upgrade_downgrade_history = pd.DataFrame(stock_upgrade_downgrade_history)\n",
    "        pd_stock_upgrade_downgrade_history['epochGradeDate'] = pd.to_datetime(pd_stock_upgrade_downgrade_history['epochGradeDate'],unit='s')\n",
    "        pd_stock_upgrade_downgrade_history.columns.values[1] = 'date'\n",
    "        pd_stock_upgrade_downgrade_history.insert(0,'stockTicker',tick)\n",
    "        return pd_stock_upgrade_downgrade_history\n",
    "    except Exception:\n",
    "        print \"error\" + tick\n",
    "        no_hist_symbol.append(tick)\n",
    "        \n",
    "\n",
    "def single_company_hist(tick):\n",
    "    url = select_ticker(tick)\n",
    "    soup = yahoo_finance_analyst_data(url)\n",
    "    full_dict = grab_dict(soup)\n",
    "    return upgrade_downgrade_pandas(full_dict,tick)\n",
    "\n",
    "def list_of_all_stock_grading_history(good_list):\n",
    "    \n",
    "    all_stock_grading_history = []\n",
    "    for ticker in good_list:\n",
    "        if ticker not in no_hist_symbol:\n",
    "            url = auto_symbols(ticker)\n",
    "            soup = yahoo_finance_analyst_data(url)\n",
    "            all_tables = grab_dict(soup)\n",
    "            grading_history = upgrade_downgrade_pandas(all_tables,ticker)\n",
    "            all_stock_grading_history.append(grading_history)\n",
    "    concat_lists_to_pd = pd.concat(all_stock_grading_history)\n",
    "    return concat_lists_to_pd\n",
    "\n",
    "\n",
    "##############################################################################\n",
    "##### Trading Data   #########################################################\n",
    "##############################################################################\n",
    "\n",
    "def get_stock_history(df):\n",
    "    list_of_stock_histories = []\n",
    "    for ticker in df['stockTicker'].unique():\n",
    "        try:\n",
    "            stock_df = pdr.get_data_yahoo(symbols=ticker, start=df.loc[df['stockTicker']==ticker].date.iloc[-1])\n",
    "            stock_df['stockTicker'] = ticker\n",
    "            stock_df.reset_index(inplace = True)\n",
    "            stock_df['Percent_change'] =  stock_df.Close.pct_change()\n",
    "            list_of_stock_histories.append(stock_df)\n",
    "            print ticker\n",
    "        except Exception: \n",
    "            print 'error @ ' + ticker\n",
    "    concat_lists_to_pd = pd.concat(list_of_stock_histories)\n",
    "    return concat_lists_to_pd\n",
    "    "
   ]
  },
  {
   "cell_type": "markdown",
   "metadata": {},
   "source": [
    "## S&P 500 Dataset"
   ]
  },
  {
   "cell_type": "code",
   "execution_count": null,
   "metadata": {
    "collapsed": true
   },
   "outputs": [],
   "source": [
    "# snp500data = list_of_all_stock_grading_history(snp500tickers)\n",
    "# snp500data.to_csv('snp500analyst_history')"
   ]
  },
  {
   "cell_type": "markdown",
   "metadata": {},
   "source": [
    "## All Stock Ticker Dataset"
   ]
  },
  {
   "cell_type": "code",
   "execution_count": null,
   "metadata": {
    "collapsed": true,
    "scrolled": false
   },
   "outputs": [],
   "source": [
    "#all_ticker_data = list_of_all_stock_grading_history(entire_ticker_list)\n",
    "#all_ticker_data.to_csv('entire_ticker_analyst_history')\n",
    "#all_ticker_data.head()"
   ]
  },
  {
   "cell_type": "code",
   "execution_count": 4,
   "metadata": {
    "collapsed": true
   },
   "outputs": [],
   "source": [
    "all_ticker_data = pd.read_csv('C:\\Users\\sarab\\Desktop\\git_projects\\stock_analyst_grade_history\\entire_ticker_analyst_history')\n",
    "snp_500_data_df = pd.read_csv('C:\\Users\\sarab\\Desktop\\git_projects\\stock_analyst_grade_history\\snp500analyst_history')"
   ]
  },
  {
   "cell_type": "code",
   "execution_count": 7,
   "metadata": {},
   "outputs": [
    {
     "name": "stdout",
     "output_type": "stream",
     "text": [
      "49483\n",
      "46513\n"
     ]
    }
   ],
   "source": [
    "print len(all_ticker_data)\n",
    "print len(snp_500_data_df)"
   ]
  },
  {
   "cell_type": "code",
   "execution_count": 12,
   "metadata": {
    "collapsed": true
   },
   "outputs": [],
   "source": [
    "snp_tickers = snp_500_data_df['stockTicker']"
   ]
  },
  {
   "cell_type": "code",
   "execution_count": 41,
   "metadata": {},
   "outputs": [
    {
     "data": {
      "text/plain": [
       "array(['MMM', 'ABT', 'ABBV', 'ACN', 'ATVI', 'AYI', 'ADBE', 'AMD', 'AAP',\n",
       "       'AES', 'AET', 'AMG', 'AFL', 'A', 'APD', 'AKAM', 'ALK', 'ALB', 'ARE',\n",
       "       'ALXN', 'ALGN', 'ALLE', 'AGN', 'ADS', 'LNT', 'ALL', 'GOOGL', 'GOOG',\n",
       "       'MO', 'AMZN', 'AEE', 'AAL', 'AEP', 'AXP', 'AIG', 'AMT', 'AWK',\n",
       "       'AMP', 'ABC', 'AME', 'AMGN', 'APH', 'APC', 'ADI', 'ANDV', 'ANSS',\n",
       "       'ANTM', 'AON', 'AOS', 'APA', 'AIV', 'AAPL', 'AMAT', 'APTV', 'ADM',\n",
       "       'ARNC', 'AJG', 'AIZ', 'T', 'ADSK', 'ADP', 'AZO', 'AVB', 'AVY',\n",
       "       'BHGE', 'BLL', 'BAC', 'BK', 'BAX', 'BBT', 'BDX', 'BBY', 'BIIB',\n",
       "       'BLK', 'HRB', 'BA', 'BWA', 'BXP', 'BSX', 'BHF', 'BMY', 'AVGO',\n",
       "       'CHRW', 'CA', 'COG', 'CDNS', 'CPB', 'COF', 'CAH', 'CBOE', 'KMX',\n",
       "       'CCL', 'CAT', 'CBG', 'CBS', 'CELG', 'CNC', 'CNP', 'CTL', 'CERN',\n",
       "       'CF', 'SCHW', 'CHTR', 'CHK', 'CVX', 'CMG', 'CB', 'CHD', 'CI', 'XEC',\n",
       "       'CINF', 'CTAS', 'CSCO', 'C', 'CFG', 'CTXS', 'CLX', 'CME', 'CMS',\n",
       "       'KO', 'CTSH', 'CL', 'CMCSA', 'CMA', 'CAG', 'CXO', 'COP', 'ED',\n",
       "       'STZ', 'COO', 'GLW', 'COST', 'COTY', 'CCI', 'CSRA', 'CSX', 'CMI',\n",
       "       'CVS', 'DHI', 'DHR', 'DRI', 'DVA', 'DE', 'DAL', 'XRAY', 'DVN',\n",
       "       'DLR', 'DFS', 'DISCA', 'DISCK', 'DISH', 'DG', 'DLTR', 'D', 'DOV',\n",
       "       'DWDP', 'DPS', 'DTE', 'DRE', 'DUK', 'DXC', 'ETFC', 'EMN', 'ETN',\n",
       "       'EBAY', 'ECL', 'EIX', 'EW', 'EA', 'EMR', 'ETR', 'EVHC', 'EOG',\n",
       "       'EQT', 'EFX', 'EQIX', 'EQR', 'ESS', 'EL', 'ES', 'RE', 'EXC', 'EXPE',\n",
       "       'EXPD', 'ESRX', 'EXR', 'XOM', 'FFIV', 'FB', 'FAST', 'FRT', 'FDX',\n",
       "       'FIS', 'FITB', 'FE', 'FISV', 'FLIR', 'FLS', 'FLR', 'FMC', 'FL', 'F',\n",
       "       'FTV', 'FBHS', 'BEN', 'FCX', 'GPS', 'GRMN', 'IT', 'GD', 'GE', 'GGP',\n",
       "       'GIS', 'GM', 'GPC', 'GILD', 'GPN', 'GS', 'GT', 'GWW', 'HAL', 'HBI',\n",
       "       'HOG', 'HRS', 'HIG', 'HAS', 'HCA', 'HCP', 'HP', 'HSIC', 'HSY',\n",
       "       'HES', 'HPE', 'HLT', 'HOLX', 'HD', 'HON', 'HRL', 'HST', 'HPQ',\n",
       "       'HUM', 'HBAN', 'HII', 'IDXX', 'INFO', 'ITW', 'ILMN', 'IR', 'INTC',\n",
       "       'ICE', 'IBM', 'INCY', 'IP', 'IPG', 'IFF', 'INTU', 'ISRG', 'IVZ',\n",
       "       'IQV', 'IRM', 'JEC', 'JBHT', 'SJM', 'JNJ', 'JCI', 'JPM', 'JNPR',\n",
       "       'KSU', 'K', 'KEY', 'KMB', 'KIM', 'KMI', 'KLAC', 'KSS', 'KHC', 'KR',\n",
       "       'LB', 'LLL', 'LH', 'LRCX', 'LEG', 'LEN', 'LUK', 'LLY', 'LNC', 'LKQ',\n",
       "       'LMT', 'L', 'LOW', 'LYB', 'MTB', 'MAC', 'M', 'MRO', 'MPC', 'MAR',\n",
       "       'MMC', 'MLM', 'MAS', 'MA', 'MAT', 'MKC', 'MCD', 'MCK', 'MDT', 'MRK',\n",
       "       'MET', 'MTD', 'MGM', 'KORS', 'MCHP', 'MU', 'MSFT', 'MAA', 'MHK',\n",
       "       'TAP', 'MDLZ', 'MON', 'MNST', 'MCO', 'MS', 'MOS', 'MSI', 'MYL',\n",
       "       'NDAQ', 'NOV', 'NAVI', 'NTAP', 'NFLX', 'NWL', 'NFX', 'NEM', 'NWSA',\n",
       "       'NWS', 'NEE', 'NLSN', 'NKE', 'NI', 'NBL', 'JWN', 'NSC', 'NTRS',\n",
       "       'NOC', 'NCLH', 'NRG', 'NUE', 'NVDA', 'ORLY', 'OXY', 'OMC', 'OKE',\n",
       "       'ORCL', 'PCAR', 'PKG', 'PH', 'PDCO', 'PAYX', 'PYPL', 'PNR', 'PBCT',\n",
       "       'PEP', 'PKI', 'PRGO', 'PFE', 'PCG', 'PM', 'PSX', 'PNW', 'PXD',\n",
       "       'PNC', 'RL', 'PPG', 'PPL', 'PX', 'PCLN', 'PFG', 'PG', 'PGR', 'PLD',\n",
       "       'PRU', 'PEG', 'PSA', 'PHM', 'PVH', 'QRVO', 'PWR', 'QCOM', 'DGX',\n",
       "       'RRC', 'RJF', 'RTN', 'O', 'RHT', 'REG', 'REGN', 'RF', 'RSG', 'RMD',\n",
       "       'RHI', 'ROK', 'COL', 'ROP', 'ROST', 'RCL', 'CRM', 'SBAC', 'SCG',\n",
       "       'SLB', 'SNI', 'STX', 'SEE', 'SRE', 'SHW', 'SIG', 'SPG', 'SWKS',\n",
       "       'SLG', 'SNA', 'SO', 'LUV', 'SPGI', 'SWK', 'SBUX', 'STT', 'SRCL',\n",
       "       'SYK', 'STI', 'SYMC', 'SYF', 'SNPS', 'SYY', 'TROW', 'TPR', 'TGT',\n",
       "       'TEL', 'FTI', 'TXN', 'TXT', 'TMO', 'TIF', 'TWX', 'TJX', 'TMK',\n",
       "       'TSS', 'TSCO', 'TDG', 'TRV', 'TRIP', 'FOXA', 'FOX', 'TSN', 'UDR',\n",
       "       'ULTA', 'USB', 'UAA', 'UA', 'UNP', 'UAL', 'UNH', 'UPS', 'URI',\n",
       "       'UTX', 'UHS', 'UNM', 'VFC', 'VLO', 'VAR', 'VTR', 'VRSN', 'VRSK',\n",
       "       'VZ', 'VRTX', 'VIAB', 'V', 'VNO', 'VMC', 'WMT', 'WBA', 'DIS', 'WM',\n",
       "       'WAT', 'WEC', 'WFC', 'HCN', 'WDC', 'WU', 'WRK', 'WY', 'WHR', 'WMB',\n",
       "       'WLTW', 'WYN', 'WYNN', 'XEL', 'XRX', 'XLNX', 'XL', 'XYL', 'YUM',\n",
       "       'ZBH', 'ZION', 'ZTS'], dtype=object)"
      ]
     },
     "execution_count": 41,
     "metadata": {},
     "output_type": "execute_result"
    }
   ],
   "source": [
    "snp_500_data_df['stockTicker'].unique()"
   ]
  },
  {
   "cell_type": "code",
   "execution_count": 10,
   "metadata": {},
   "outputs": [
    {
     "data": {
      "text/plain": [
       "503"
      ]
     },
     "execution_count": 10,
     "metadata": {},
     "output_type": "execute_result"
    }
   ],
   "source": [
    "len(snp_tickers)"
   ]
  },
  {
   "cell_type": "code",
   "execution_count": 53,
   "metadata": {},
   "outputs": [
    {
     "data": {
      "text/html": [
       "<div>\n",
       "<style>\n",
       "    .dataframe thead tr:only-child th {\n",
       "        text-align: right;\n",
       "    }\n",
       "\n",
       "    .dataframe thead th {\n",
       "        text-align: left;\n",
       "    }\n",
       "\n",
       "    .dataframe tbody tr th {\n",
       "        vertical-align: top;\n",
       "    }\n",
       "</style>\n",
       "<table border=\"1\" class=\"dataframe\">\n",
       "  <thead>\n",
       "    <tr style=\"text-align: right;\">\n",
       "      <th></th>\n",
       "      <th>Unnamed: 0</th>\n",
       "      <th>stockTicker</th>\n",
       "      <th>action</th>\n",
       "      <th>date</th>\n",
       "      <th>firm</th>\n",
       "      <th>fromGrade</th>\n",
       "      <th>toGrade</th>\n",
       "    </tr>\n",
       "  </thead>\n",
       "  <tbody>\n",
       "    <tr>\n",
       "      <th>0</th>\n",
       "      <td>0</td>\n",
       "      <td>MMM</td>\n",
       "      <td>main</td>\n",
       "      <td>2017-10-25</td>\n",
       "      <td>Citigroup</td>\n",
       "      <td>NaN</td>\n",
       "      <td>Buy</td>\n",
       "    </tr>\n",
       "    <tr>\n",
       "      <th>1</th>\n",
       "      <td>1</td>\n",
       "      <td>MMM</td>\n",
       "      <td>main</td>\n",
       "      <td>2017-10-25</td>\n",
       "      <td>Credit Suisse</td>\n",
       "      <td>NaN</td>\n",
       "      <td>Outperform</td>\n",
       "    </tr>\n",
       "    <tr>\n",
       "      <th>2</th>\n",
       "      <td>2</td>\n",
       "      <td>MMM</td>\n",
       "      <td>main</td>\n",
       "      <td>2017-10-25</td>\n",
       "      <td>Bank of America</td>\n",
       "      <td>NaN</td>\n",
       "      <td>Buy</td>\n",
       "    </tr>\n",
       "    <tr>\n",
       "      <th>3</th>\n",
       "      <td>3</td>\n",
       "      <td>MMM</td>\n",
       "      <td>main</td>\n",
       "      <td>2017-10-25</td>\n",
       "      <td>Argus</td>\n",
       "      <td>NaN</td>\n",
       "      <td>Buy</td>\n",
       "    </tr>\n",
       "    <tr>\n",
       "      <th>4</th>\n",
       "      <td>4</td>\n",
       "      <td>MMM</td>\n",
       "      <td>up</td>\n",
       "      <td>2017-10-25</td>\n",
       "      <td>Goldman Sachs</td>\n",
       "      <td>Sell</td>\n",
       "      <td>Neutral</td>\n",
       "    </tr>\n",
       "  </tbody>\n",
       "</table>\n",
       "</div>"
      ],
      "text/plain": [
       "   Unnamed: 0 stockTicker action        date             firm fromGrade  \\\n",
       "0           0         MMM   main  2017-10-25        Citigroup       NaN   \n",
       "1           1         MMM   main  2017-10-25    Credit Suisse       NaN   \n",
       "2           2         MMM   main  2017-10-25  Bank of America       NaN   \n",
       "3           3         MMM   main  2017-10-25            Argus       NaN   \n",
       "4           4         MMM     up  2017-10-25    Goldman Sachs      Sell   \n",
       "\n",
       "      toGrade  \n",
       "0         Buy  \n",
       "1  Outperform  \n",
       "2         Buy  \n",
       "3         Buy  \n",
       "4     Neutral  "
      ]
     },
     "execution_count": 53,
     "metadata": {},
     "output_type": "execute_result"
    }
   ],
   "source": [
    "snp_500_data_df.head()"
   ]
  },
  {
   "cell_type": "markdown",
   "metadata": {},
   "source": [
    "### Single Company Lookup by Ticker"
   ]
  },
  {
   "cell_type": "code",
   "execution_count": null,
   "metadata": {
    "collapsed": true
   },
   "outputs": [],
   "source": [
    "df = single_company_hist(raw_input('Please Enter Ticker Value').upper())"
   ]
  },
  {
   "cell_type": "code",
   "execution_count": 54,
   "metadata": {},
   "outputs": [
    {
     "data": {
      "text/html": [
       "<div>\n",
       "<style>\n",
       "    .dataframe thead tr:only-child th {\n",
       "        text-align: right;\n",
       "    }\n",
       "\n",
       "    .dataframe thead th {\n",
       "        text-align: left;\n",
       "    }\n",
       "\n",
       "    .dataframe tbody tr th {\n",
       "        vertical-align: top;\n",
       "    }\n",
       "</style>\n",
       "<table border=\"1\" class=\"dataframe\">\n",
       "  <thead>\n",
       "    <tr style=\"text-align: right;\">\n",
       "      <th></th>\n",
       "      <th>Date</th>\n",
       "      <th>Open</th>\n",
       "      <th>High</th>\n",
       "      <th>Low</th>\n",
       "      <th>Close</th>\n",
       "      <th>Adj Close</th>\n",
       "      <th>Volume</th>\n",
       "      <th>stockTicker</th>\n",
       "      <th>Percent_change</th>\n",
       "    </tr>\n",
       "  </thead>\n",
       "  <tbody>\n",
       "    <tr>\n",
       "      <th>0</th>\n",
       "      <td>2012-02-09</td>\n",
       "      <td>87.540001</td>\n",
       "      <td>88.180000</td>\n",
       "      <td>87.459999</td>\n",
       "      <td>88.019997</td>\n",
       "      <td>75.877464</td>\n",
       "      <td>3031600.0</td>\n",
       "      <td>MMM</td>\n",
       "      <td>NaN</td>\n",
       "    </tr>\n",
       "    <tr>\n",
       "      <th>1</th>\n",
       "      <td>2012-02-10</td>\n",
       "      <td>87.199997</td>\n",
       "      <td>87.559998</td>\n",
       "      <td>86.750000</td>\n",
       "      <td>87.139999</td>\n",
       "      <td>75.118858</td>\n",
       "      <td>3085700.0</td>\n",
       "      <td>MMM</td>\n",
       "      <td>-0.009998</td>\n",
       "    </tr>\n",
       "    <tr>\n",
       "      <th>2</th>\n",
       "      <td>2012-02-13</td>\n",
       "      <td>87.570000</td>\n",
       "      <td>88.089996</td>\n",
       "      <td>87.160004</td>\n",
       "      <td>88.029999</td>\n",
       "      <td>75.886070</td>\n",
       "      <td>2530600.0</td>\n",
       "      <td>MMM</td>\n",
       "      <td>0.010213</td>\n",
       "    </tr>\n",
       "    <tr>\n",
       "      <th>3</th>\n",
       "      <td>2012-02-14</td>\n",
       "      <td>87.599998</td>\n",
       "      <td>88.000000</td>\n",
       "      <td>87.220001</td>\n",
       "      <td>87.989998</td>\n",
       "      <td>75.851593</td>\n",
       "      <td>2850300.0</td>\n",
       "      <td>MMM</td>\n",
       "      <td>-0.000454</td>\n",
       "    </tr>\n",
       "    <tr>\n",
       "      <th>4</th>\n",
       "      <td>2012-02-15</td>\n",
       "      <td>87.419998</td>\n",
       "      <td>87.720001</td>\n",
       "      <td>86.750000</td>\n",
       "      <td>87.010002</td>\n",
       "      <td>75.513138</td>\n",
       "      <td>3647000.0</td>\n",
       "      <td>MMM</td>\n",
       "      <td>-0.011138</td>\n",
       "    </tr>\n",
       "  </tbody>\n",
       "</table>\n",
       "</div>"
      ],
      "text/plain": [
       "        Date       Open       High        Low      Close  Adj Close  \\\n",
       "0 2012-02-09  87.540001  88.180000  87.459999  88.019997  75.877464   \n",
       "1 2012-02-10  87.199997  87.559998  86.750000  87.139999  75.118858   \n",
       "2 2012-02-13  87.570000  88.089996  87.160004  88.029999  75.886070   \n",
       "3 2012-02-14  87.599998  88.000000  87.220001  87.989998  75.851593   \n",
       "4 2012-02-15  87.419998  87.720001  86.750000  87.010002  75.513138   \n",
       "\n",
       "      Volume stockTicker  Percent_change  \n",
       "0  3031600.0         MMM             NaN  \n",
       "1  3085700.0         MMM       -0.009998  \n",
       "2  2530600.0         MMM        0.010213  \n",
       "3  2850300.0         MMM       -0.000454  \n",
       "4  3647000.0         MMM       -0.011138  "
      ]
     },
     "execution_count": 54,
     "metadata": {},
     "output_type": "execute_result"
    }
   ],
   "source": [
    "snp500StockValueHistories.head()"
   ]
  },
  {
   "cell_type": "markdown",
   "metadata": {},
   "source": [
    "## SNP500 Stock Value Histories"
   ]
  },
  {
   "cell_type": "code",
   "execution_count": 16,
   "metadata": {
    "collapsed": true,
    "scrolled": true
   },
   "outputs": [],
   "source": [
    "#snp500StockValueHistories = get_stock_history(snp_500_data_df)\n",
    "#snp500StockValueHistories.to_csv('snp500stockHistories')"
   ]
  },
  {
   "cell_type": "markdown",
   "metadata": {},
   "source": [
    "## Stock History and Analyst History Merged Data"
   ]
  },
  {
   "cell_type": "code",
   "execution_count": 61,
   "metadata": {
    "collapsed": true
   },
   "outputs": [],
   "source": [
    "entire_stock_analyst_hist_df = pd.read_csv('entire_ticker_analyst_history')\n",
    "snp_500_analyst_history_df = pd.read_csv('snp500analyst_history')\n",
    "snp_500_stock_history_df = pd.read_csv('snp500stockHistories')"
   ]
  },
  {
   "cell_type": "code",
   "execution_count": 62,
   "metadata": {
    "collapsed": true
   },
   "outputs": [],
   "source": [
    "snp500_stock_and_updown_hist_merged_df = snp_500_stock_history_df.merge(snp_500_analyst_history_df,how='left',left_on= ['Date','stockTicker'], right_on=['date','stockTicker'])"
   ]
  },
  {
   "cell_type": "code",
   "execution_count": 72,
   "metadata": {},
   "outputs": [
    {
     "data": {
      "text/plain": [
       "['Date',\n",
       " 'Open',\n",
       " 'High',\n",
       " 'Low',\n",
       " 'Close',\n",
       " 'Adj Close',\n",
       " 'Volume',\n",
       " 'stockTicker',\n",
       " 'Percent_change',\n",
       " 'Unnamed: 0_y',\n",
       " 'action',\n",
       " 'firm',\n",
       " 'fromGrade',\n",
       " 'toGrade']"
      ]
     },
     "execution_count": 72,
     "metadata": {},
     "output_type": "execute_result"
    }
   ],
   "source": [
    "cols = list(snp500_stock_and_updown_hist_merged_df.columns.values)\n",
    "cols"
   ]
  },
  {
   "cell_type": "code",
   "execution_count": 74,
   "metadata": {
    "collapsed": true
   },
   "outputs": [],
   "source": [
    "snp500_stock_and_updown_hist_merged_df = snp500_stock_and_updown_hist_merged_df.drop('Unnamed: 0_y',1)"
   ]
  },
  {
   "cell_type": "code",
   "execution_count": 76,
   "metadata": {},
   "outputs": [
    {
     "data": {
      "text/plain": [
       "['Date',\n",
       " 'Open',\n",
       " 'High',\n",
       " 'Low',\n",
       " 'Close',\n",
       " 'Adj Close',\n",
       " 'Volume',\n",
       " 'stockTicker',\n",
       " 'Percent_change',\n",
       " 'action',\n",
       " 'firm',\n",
       " 'fromGrade',\n",
       " 'toGrade']"
      ]
     },
     "execution_count": 76,
     "metadata": {},
     "output_type": "execute_result"
    }
   ],
   "source": [
    "cols = list(snp500_stock_and_updown_hist_merged_df.columns.values)\n",
    "cols"
   ]
  },
  {
   "cell_type": "code",
   "execution_count": 77,
   "metadata": {
    "collapsed": true
   },
   "outputs": [],
   "source": [
    "snp500_stock_and_updown_hist_merged_df = snp500_stock_and_updown_hist_merged_df[['stockTicker','Date','firm','action','fromGrade','toGrade','Open', 'High','Low','Close','Adj Close','Volume']]"
   ]
  },
  {
   "cell_type": "code",
   "execution_count": 79,
   "metadata": {
    "collapsed": true
   },
   "outputs": [],
   "source": [
    "snp500_stock_and_updown_hist_merged_df.to_csv('snp500merged')"
   ]
  },
  {
   "cell_type": "code",
   "execution_count": 52,
   "metadata": {},
   "outputs": [
    {
     "data": {
      "text/plain": [
       "Series([], Name: firm, dtype: int64)"
      ]
     },
     "execution_count": 52,
     "metadata": {},
     "output_type": "execute_result"
    }
   ],
   "source": [
    "snp500_merged_df.firm.value_counts()"
   ]
  }
 ],
 "metadata": {
  "kernelspec": {
   "display_name": "Python 2",
   "language": "python",
   "name": "python2"
  },
  "language_info": {
   "codemirror_mode": {
    "name": "ipython",
    "version": 2
   },
   "file_extension": ".py",
   "mimetype": "text/x-python",
   "name": "python",
   "nbconvert_exporter": "python",
   "pygments_lexer": "ipython2",
   "version": "2.7.13"
  }
 },
 "nbformat": 4,
 "nbformat_minor": 2
}
